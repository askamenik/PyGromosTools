{
 "cells": [
  {
   "cell_type": "code",
   "execution_count": 1,
   "metadata": {
    "collapsed": true
   },
   "outputs": [],
   "source": [
    "from pygromos.files.topology import top\n",
    "from pygromos.files.topology import ptp"
   ]
  },
  {
   "cell_type": "code",
   "execution_count": 2,
   "outputs": [],
   "source": [
    "in_top1_path = \"F313.top\"\n",
    "in_top2_path = \"G078.top\"\n",
    "out_ptp_path = \"test.ptp\"\n"
   ],
   "metadata": {
    "collapsed": false,
    "pycharm": {
     "name": "#%%\n"
    }
   }
  },
  {
   "cell_type": "code",
   "execution_count": 3,
   "outputs": [],
   "source": [
    "top1 = top.Top(in_top1_path)\n",
    "top2 = top.Top(in_top2_path)\n"
   ],
   "metadata": {
    "collapsed": false,
    "pycharm": {
     "name": "#%%\n"
    }
   }
  },
  {
   "cell_type": "code",
   "execution_count": 4,
   "outputs": [],
   "source": [
    "ptp_file = ptp.Ptp()\n"
   ],
   "metadata": {
    "collapsed": false,
    "pycharm": {
     "name": "#%%\n"
    }
   }
  },
  {
   "cell_type": "code",
   "execution_count": 5,
   "outputs": [],
   "source": [
    "com_top = top2\n",
    "com_top += top1"
   ],
   "metadata": {
    "collapsed": false,
    "pycharm": {
     "name": "#%%\n"
    }
   }
  },
  {
   "cell_type": "code",
   "execution_count": 6,
   "outputs": [
    {
     "name": "stdout",
     "output_type": "stream",
     "text": [
      "['atomI', 'atomJ', 'atomK', 'atomL', 'type1', 'type2'] ['102', '1', '3', '20', '43', '47']\n",
      "{'atomI': '102', 'atomJ': '1', 'atomK': '3', 'atomL': '20', 'type1': '43', 'type2': '47', 'NR': 1}\n",
      "['atomI', 'atomJ', 'atomK', 'atomL', 'type1', 'type2'] ['102', '1', '3', '20', '44', '48']\n",
      "{'atomI': '102', 'atomJ': '1', 'atomK': '3', 'atomL': '20', 'type1': '44', 'type2': '48', 'NR': 2}\n",
      "['atomI', 'atomJ', 'atomK', 'atomL', 'type1', 'type2'] ['1', '3', '20', '22', '42', '46']\n",
      "{'atomI': '1', 'atomJ': '3', 'atomK': '20', 'atomL': '22', 'type1': '42', 'type2': '46', 'NR': 3}\n",
      "['atomI', 'atomJ', 'atomK', 'atomL', 'type1', 'type2'] ['1', '3', '20', '22', '45', '49']\n",
      "{'atomI': '1', 'atomJ': '3', 'atomK': '20', 'atomL': '22', 'type1': '45', 'type2': '49', 'NR': 4}\n",
      "['atomI', 'atomJ', 'atomK', 'atomL', 'type1', 'type2'] ['20', '22', '24', '28', '43', '47']\n",
      "{'atomI': '20', 'atomJ': '22', 'atomK': '24', 'atomL': '28', 'type1': '43', 'type2': '47', 'NR': 5}\n",
      "['atomI', 'atomJ', 'atomK', 'atomL', 'type1', 'type2'] ['20', '22', '24', '28', '44', '48']\n",
      "{'atomI': '20', 'atomJ': '22', 'atomK': '24', 'atomL': '28', 'type1': '44', 'type2': '48', 'NR': 6}\n",
      "['atomI', 'atomJ', 'atomK', 'atomL', 'type1', 'type2'] ['22', '24', '28', '30', '42', '46']\n",
      "{'atomI': '22', 'atomJ': '24', 'atomK': '28', 'atomL': '30', 'type1': '42', 'type2': '46', 'NR': 7}\n",
      "['atomI', 'atomJ', 'atomK', 'atomL', 'type1', 'type2'] ['22', '24', '28', '30', '45', '49']\n",
      "{'atomI': '22', 'atomJ': '24', 'atomK': '28', 'atomL': '30', 'type1': '45', 'type2': '49', 'NR': 8}\n",
      "['atomI', 'atomJ', 'atomK', 'atomL', 'type1', 'type2'] ['28', '30', '32', '37', '43', '47']\n",
      "{'atomI': '28', 'atomJ': '30', 'atomK': '32', 'atomL': '37', 'type1': '43', 'type2': '47', 'NR': 9}\n",
      "['atomI', 'atomJ', 'atomK', 'atomL', 'type1', 'type2'] ['28', '30', '32', '37', '44', '48']\n",
      "{'atomI': '28', 'atomJ': '30', 'atomK': '32', 'atomL': '37', 'type1': '44', 'type2': '48', 'NR': 10}\n",
      "['atomI', 'atomJ', 'atomK', 'atomL', 'type1', 'type2'] ['30', '32', '37', '39', '42', '46']\n",
      "{'atomI': '30', 'atomJ': '32', 'atomK': '37', 'atomL': '39', 'type1': '42', 'type2': '46', 'NR': 11}\n",
      "['atomI', 'atomJ', 'atomK', 'atomL', 'type1', 'type2'] ['30', '32', '37', '39', '45', '49']\n",
      "{'atomI': '30', 'atomJ': '32', 'atomK': '37', 'atomL': '39', 'type1': '45', 'type2': '49', 'NR': 12}\n",
      "['atomI', 'atomJ', 'atomK', 'atomL', 'type1', 'type2'] ['37', '39', '41', '45', '43', '47']\n",
      "{'atomI': '37', 'atomJ': '39', 'atomK': '41', 'atomL': '45', 'type1': '43', 'type2': '47', 'NR': 13}\n",
      "['atomI', 'atomJ', 'atomK', 'atomL', 'type1', 'type2'] ['37', '39', '41', '45', '44', '48']\n",
      "{'atomI': '37', 'atomJ': '39', 'atomK': '41', 'atomL': '45', 'type1': '44', 'type2': '48', 'NR': 14}\n",
      "['atomI', 'atomJ', 'atomK', 'atomL', 'type1', 'type2'] ['39', '41', '45', '47', '42', '46']\n",
      "{'atomI': '39', 'atomJ': '41', 'atomK': '45', 'atomL': '47', 'type1': '42', 'type2': '46', 'NR': 15}\n",
      "['atomI', 'atomJ', 'atomK', 'atomL', 'type1', 'type2'] ['39', '41', '45', '47', '45', '49']\n",
      "{'atomI': '39', 'atomJ': '41', 'atomK': '45', 'atomL': '47', 'type1': '45', 'type2': '49', 'NR': 16}\n",
      "dict_keys(['TITLE', 'PERTPROPERDIH'])\n",
      "TITLE\n",
      "PERTPROPERDIH\n"
     ]
    },
    {
     "data": {
      "text/plain": "TITLE\nompalotinA\n\n\t >>> Generated with python lib function_libs utilities. (riniker group)\n\t >>> line_seperator: '\\n'\t field_seperator: '\\t'\t comments_char: '#'\nEND\nPERTPROPERDIH\n# NPD  \t NPTB =  \t 2 \t \n \t 48\n# atomI atomJ atomK atomL type1  type2 \n  102     1     3    20    43    47\n  102     1     3    20    44    48\n    1     3    20    22    42    46\n    1     3    20    22    45    49\n   20    22    24    28    43    47\n   20    22    24    28    44    48\n   22    24    28    30    42    46\n   22    24    28    30    45    49\n   28    30    32    37    43    47\n   28    30    32    37    44    48\n   30    32    37    39    42    46\n   30    32    37    39    45    49\n   37    39    41    45    43    47\n   37    39    41    45    44    48\n   39    41    45    47    42    46\n   39    41    45    47    45    49\nEND"
     },
     "execution_count": 6,
     "metadata": {},
     "output_type": "execute_result"
    }
   ],
   "source": [
    "ptp.Ptp(\"test.ptp\")"
   ],
   "metadata": {
    "collapsed": false,
    "pycharm": {
     "name": "#%%\n"
    }
   }
  },
  {
   "cell_type": "code",
   "execution_count": 7,
   "outputs": [
    {
     "data": {
      "text/plain": "IMPDIHEDRAL\n# \t #  NQHI: number of improper dihedrals\n \t 6\n# \t IQ \t JQ \t KQ \t LQ \t ICQ\n\t2\t1\t3\t10\t1\n\t7\t5\t8\t9\t1\n\t9\t7\t10\t17\t1\n\t10\t2\t9\t11\t1\n\t21\t20\t22\t32\t1\n\t26\t24\t27\t30\t1\nEND"
     },
     "execution_count": 7,
     "metadata": {},
     "output_type": "execute_result"
    }
   ],
   "source": [
    "\n",
    "com_top.IMPDIHEDRAL"
   ],
   "metadata": {
    "collapsed": false,
    "pycharm": {
     "name": "#%%\n"
    }
   }
  },
  {
   "cell_type": "code",
   "execution_count": 7,
   "outputs": [],
   "source": [],
   "metadata": {
    "collapsed": false,
    "pycharm": {
     "name": "#%%\n"
    }
   }
  }
 ],
 "metadata": {
  "kernelspec": {
   "name": "pycharm-8751cf47",
   "language": "python",
   "display_name": "PyCharm (PyGromosTools)"
  },
  "language_info": {
   "codemirror_mode": {
    "name": "ipython",
    "version": 2
   },
   "file_extension": ".py",
   "mimetype": "text/x-python",
   "name": "python",
   "nbconvert_exporter": "python",
   "pygments_lexer": "ipython2",
   "version": "2.7.6"
  }
 },
 "nbformat": 4,
 "nbformat_minor": 0
}